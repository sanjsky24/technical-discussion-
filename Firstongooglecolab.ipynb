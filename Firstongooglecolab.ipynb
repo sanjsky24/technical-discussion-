{
  "nbformat": 4,
  "nbformat_minor": 0,
  "metadata": {
    "colab": {
      "provenance": [],
      "gpuType": "T4",
      "authorship_tag": "ABX9TyPwu1M73JuDb5ACvyqCI35j",
      "include_colab_link": true
    },
    "kernelspec": {
      "name": "python3",
      "display_name": "Python 3"
    },
    "language_info": {
      "name": "python"
    },
    "accelerator": "GPU"
  },
  "cells": [
    {
      "cell_type": "markdown",
      "metadata": {
        "id": "view-in-github",
        "colab_type": "text"
      },
      "source": [
        "<a href=\"https://colab.research.google.com/github/sanjsky24/technical-discussion-/blob/main/Firstongooglecolab.ipynb\" target=\"_parent\"><img src=\"https://colab.research.google.com/assets/colab-badge.svg\" alt=\"Open In Colab\"/></a>"
      ]
    },
    {
      "cell_type": "code",
      "execution_count": 2,
      "metadata": {
        "colab": {
          "base_uri": "https://localhost:8080/",
          "height": 35
        },
        "id": "40OC9UlumPP7",
        "outputId": "04cf4d44-83f4-4963-eda7-47c3d5af1db4"
      },
      "outputs": [
        {
          "output_type": "execute_result",
          "data": {
            "text/plain": [
              "'hi'"
            ],
            "application/vnd.google.colaboratory.intrinsic+json": {
              "type": "string"
            }
          },
          "metadata": {},
          "execution_count": 2
        }
      ],
      "source": [
        "## BEGINNING\n",
        "def hello():\n",
        "  return \"hi\"\n",
        "hello()\n",
        "\n"
      ]
    },
    {
      "cell_type": "markdown",
      "source": [
        "##THE NEXT STEP\n"
      ],
      "metadata": {
        "id": "biAgRGnGnKAf"
      }
    },
    {
      "cell_type": "markdown",
      "source": [
        "##THE CONCLUSION"
      ],
      "metadata": {
        "id": "85mPP894nOXb"
      }
    },
    {
      "cell_type": "markdown",
      "source": [
        "### this is a sample markdown\n",
        "* one\n",
        "*two\n"
      ],
      "metadata": {
        "id": "QeoK8gAVnRAT"
      }
    },
    {
      "cell_type": "markdown",
      "source": [],
      "metadata": {
        "id": "3MtRn0JYniFg"
      }
    }
  ]
}